{
  "nbformat": 4,
  "nbformat_minor": 0,
  "metadata": {
    "colab": {
      "provenance": [],
      "authorship_tag": "ABX9TyN6A3dKkMXV/lBmTGGgS9g4",
      "include_colab_link": true
    },
    "kernelspec": {
      "name": "python3",
      "display_name": "Python 3"
    },
    "language_info": {
      "name": "python"
    }
  },
  "cells": [
    {
      "cell_type": "markdown",
      "metadata": {
        "id": "view-in-github",
        "colab_type": "text"
      },
      "source": [
        "<a href=\"https://colab.research.google.com/github/IanEB1/Consultor-Atmosf-rico---Projeto-Alura/blob/main/Consultor_Atmosf%C3%A9rico.ipynb\" target=\"_parent\"><img src=\"https://colab.research.google.com/assets/colab-badge.svg\" alt=\"Open In Colab\"/></a>"
      ]
    },
    {
      "cell_type": "code",
      "execution_count": 32,
      "metadata": {
        "id": "98SZE4uGqGkm"
      },
      "outputs": [],
      "source": [
        "!pip install -q -U google-generativeai\n",
        "\n",
        "import google.generativeai as genai\n",
        "import numpy as np\n",
        "import pandas as pd\n",
        "\n",
        "from google.colab import userdata\n",
        "api_key = userdata.get('ACESS_KEY')\n",
        "genai.configure(api_key = api_key)"
      ]
    },
    {
      "cell_type": "code",
      "source": [
        "\n",
        "DOCUMENT_1 = {\n",
        "\n",
        "    'Titulo': 'Camadas da Atmosfera',\n",
        "\n",
        "    \"Conteudo\": 'As camadas que compõem a atmosfera do planeta Terra são: Troposfera, Estratosfera, Mesosfera, Termosfera e Exosfera. A atmosfera do planeta Terra envolve os gases que fazem parte do planeta e costuma ser dividida verticalmente em camadas concêntricas, definidas por suas características de temperatura e pressão. A densidade da atmosfera decresce à medida que se distancia da superfície terrestre. Isso acontece por causa da gravidade que atrai os gases e aerossóis para perto da superfície. A troposfera é a camada atmosférica mais baixa, onde vivem e respiram os seres vivos. Se estende desde a superfície terrestre até uma altitude variável entre 8 km (nos polos) a 20 km (no Equador). A temperatura diminui com a altitude. É na troposfera que ocorrem os fenômenos relacionados com o tempo e sofre grande influência dos mesmos, como formação de chuva, a maioria das nuvens, relâmpagos e a até onde se concentra a poluição do ar. Nessa camada estão concentrados a maior parte dos gases: 21% de oxigênio, 78% de nitrogênio e 1% de outros gases. As principais características da troposfera são: É a camada mais densa da atmosfera; Quanto maior a altitude da camada menor é a temperatura, que diminui cerca de 6,5 ºC por km; Quanto maior a altitude menor é a concentração dos gases, pois a troposfera concentra 75% de todo ar da atmosfera. A tropopausa é a zona de transição entre a troposfera e a próxima camada atmosférica, a estratosfera. É a segunda maior camada atmosférica do planeta e é onde se encontra a camada de ozônio. Na estratosfera, a temperatura constante na porção inicial (se estende até mais ou menos 50 km acima do solo), vai aumentando gradualmente até o topo da camada. Isso se deve à absorção da radiação ultravioleta pelo ozônio. É na estratosfera que os aviões, jatos supersônicos e balões meteorológicos trafegam. As principais características da estratosfera são: Formada por 19% dos gases da atmosfera, em gás ozônio está em maior quantidade que o gás oxigênio; A camada quase não apresenta nuvens e o ar se movimenta na camada no sentido horizontal; As moléculas de ozônio absorvem a luz ultravioleta do Sol e transformam em calor. A estratopausa é a zona de transição entre a estratosfera e a próxima camada atmosférica, a mesosfera. A temperatura decresce com a altitude novamente nessa faixa, chegando a atingir -90 ºC, por isso é considerada a camada mais fria da atmosfera. A mesosfera atinge até cerca de 80 km. Embora seja uma região pouco estudada, sabe-se que a maioria dos meteoros são queimados na mesosfera pela elevada densidade dos gases que os desaceleram e fazem com que ocorra o processo de combustão. As principais características da mesosfera são: A temperatura diminui com o aumento da altitude; Os gases presentes na camada são mais densos; Há uma maior incidência dos raios ultravioletas proveniente do Sol, pois os gases tornam-se cada vez mais rarefeitos. A mesopausa é a zona de transição entre a mesosfera e a próxima camada atmosférica, a termosfera. Essa camada absorve ondas curtas de radiação solar que fazem com que as temperaturas sejam elevadas. A termosfera não tem um limite superior bem delimitado e é a camada mais extensa da atmosfera. É nessa camada onde ocorre o fenômeno colorido chamado aurora, a aurora boreal, no Hemisfério Norte, e a aurora austral, no Hemisfério Sul. Dentro da termosfera, em altitudes superiores a 80 km até cerca de 300 km há uma alta concentração de íons, por isso a região tem o nome de Ionosfera. Os íons são originados das radiações solares de alta energia. Ao penetrar na ionosfera, colidem com átomos e moléculas de oxigênio e nitrogênio, que são temporariamente energizados. Quando estes átomos e moléculas retornam do seu estado energético excitado, eles emitem energia na forma de luz, o que constitui as auroras boreais. A termopausa é a zona de transição entre a termosfera e a próxima camada atmosférica, a exosfera. Na exosfera, acima de 500 km, o movimento dos íons é condicionado pelos campos magnéticos da Terra, sendo essa região chamada de Magnetosfera. Trata-se da última camada da atmosfera terrestre e antecede o espaço sideral. Algumas partículas acompanham o campo magnético da Terra em direção aos polos geomagnéticos. As principais características da exosfera são: Essa camada é formada basicamente por hidrogênio e hélio; Pela presença de plasma, a temperatura fica em torno de 1000 ºC; O ar é bastante rarefeito e, por isso, ocorre a passagem de moléculas para o espaço. Os elementos que compõem o ar são essencialmente o nitrogênio e o oxigênio. A partir de aproximadamente 80 km, essa composição se torna mais variável com partículas suspensas, vapor de água e alguns gases em pequena quantidade (argônio, neônio, dióxido de carbono). Também contém pequenas partículas chamadas aerossóis (cristais de gelo, poeira, fuligem, produtos químicos, entre outros) principalmente na baixa atmosfera, próximo à superfície da Terra.'\n",
        "}\n",
        "\n",
        "DOCUMENT_2 = {\n",
        "\n",
        "    'Titulo': 'Concentração de gases de efeito estufa na atmosfera bate recorde em 2021',\n",
        "\n",
        "    'Conteudo': 'A concentração atmosférica de dióxido de carbono, metano e óxido nitroso, as principais emissões que retêm calor, chegou a patamares históricos em 2021, indica relatório da ONU. Expectativa é de que o cenário deste ano seja ainda pior. Na contramão das metas do Acordo de Paris, a concentração dos três principais gases de efeito estufa na atmosfera atingiu novos recordes em 2021. Os níveis de dióxido de carbono foram de 415,7 partes por milhão (ppm), de metano, 415,7 ppm, e de óxido nitroso, 334,5 ppb. Esses valores são, respectivamente, 149%, 262% e 124% maiores que os registros pré-industriais, ou seja, antes que as atividades humanas começassem a desequilibrar as emissões naturais dessas substâncias. Os dados foram divulgados em um boletim da Organização Meteorológica Mundial (OMM), das Nações Unidas, às portas da Conferência das Partes sobre Mudanças Climáticas (COP27), que acontecerá no Egito, entre 7 e 18 de novembro. Na véspera da abertura, a OMM divulgará o relatório sobre o estado do clima global, que mostrará como os gases de efeito estufa continuam a levar a Terra a extremos climáticos: 2015 a 2021 foram os sete anos mais quentes já registrados, e medições apontam que 2022 baterá novos recordes. Desde que o Boletim de Gases de Efeito Estufa da OMM começou a ser publicado, há 40 anos, 2021 registrou a maior concentração de metano na atmosfera. Já o aumento nos níveis de dióxido de carbono (CO2) de 2020 a 2021 foi mais elevado que a taxa média de crescimento anual da última década. As medições das estações da rede Observatório Atmosférico Global do organismo da ONU mostram que esses níveis continuam a crescer em 2022, em todo o mundo. \"O aumento contínuo nas concentrações dos principais gases que retêm o calor, incluindo a aceleração recorde nos níveis de metano, mostra que estamos indo na direção errada\", disse, em nota, o secretário-geral da OMM, Petteri Taalas. Ele lembrou que, entre 1990 e 2021, o efeito de aquecimento global por gases de efeito estufa de longa duração aumentou quase 50%, com o CO2 respondendo por cerca de 80% dessa elevação. \"Precisamos transformar os sistemas industriais, energéticos e de transporte e todo o nosso modo de vida. As mudanças necessárias são economicamente acessíveis e tecnicamente possíveis. O tempo está se esgotando\", disse Taalas. Segundo o secretário-geral da OMM, há estratégias econômicas disponíveis para combater as emissões de metano, especialmente do setor de combustíveis fósseis. Como esse gás tem uma vida útil relativamente curta — menos de 10 anos —, seu impacto no clima é reversível. \"Como prioridade máxima e mais urgente, temos que reduzir as emissões de dióxido de carbono, que são o principal motor das mudanças climáticas e das condições climáticas extremas associadas e afetarão o clima por milhares de anos por meio da perda de gelo polar, aquecimento dos oceanos e aumento do nível do mar.\" Comentando os resultados do boletim, Euan Nisbet, professor de ciências da terra da Universidade de Londres, destacou que, embora as concentrações de CO2 perdurem mais, o aumento nos níveis metano não deve ser desprezado, até porque a ciência não consegue explicar, ainda, o motivo da elevação. \"O aumento extremo e inesperado do metano atmosférico nos últimos dois anos é particularmente preocupante; não sabemos por que isso está acontecendo. Grande parte do crescimento pode vir de fontes biogênicas, como pântanos e agricultura, especialmente nos trópicos\", diz. \"Se esse aumento está alimentando o aquecimento, atingir as metas climáticas será ainda mais difícil.\" Por outro lado, Nisbet destaca que, como o tempo de vida do metano na atmosfera é mais curto, ações para reduzir as emissões antropogênicas (causadas por atividades humanas) poderão ter um rápido impacto. \"Há muito que a China e a Índia, os maiores emissores, podem fazer para ajudar. Embora não tenham aderido ao Compromisso Global do Metano, elas podem reduzir de forma barata as emissões de suas indústrias de carvão, reduzir as emissões de aterros sanitários e parar os incêndios de resíduos agrícolas que emitem metano e outras queimas de resíduos.\" Países tropicais, como o Brasil, também podem ajudar: \"Especialmente evitando incêndios e cobrindo aterros sanitários. Isso não apenas reduziria as emissões de metano de forma barata, mas também reduziria a poluição do ar generalizada por outros produtos químicos e partículas na fumaça\", aponta o especialista. A OMM mede as concentrações atmosféricas de gases de efeito estufa — o que permanece na atmosfera depois que eles são absorvidos por sumidouros, como o oceano e a biosfera. Isso não é o mesmo que o lançamento dessas substâncias. O relatório sobre a lacuna das emissões — diferença entre onde o mundo deveria estar nesse quesito e onde provavelmente estará — sairá hoje. \"Enquanto as emissões continuarem, a temperatura global continuará a subir. Dada a longa vida do CO2 , os aumentos de temperatura já observados persistirão por décadas, mesmo que as emissões sejam rapidamente reduzidas a zero líquido\", observou Taalas. Os relatórios da OMM buscam inflamar os debates dos negociadores e tomadores de decisão durante as conferências climáticas. Embora em 2015 o mundo tenha concordado em limitar, até o fim do século, o aquecimento global a menos de 2ºC (preferencialmente a 1,5ºC), em comparação com os níveis pré-industriais, a temperatura global está, agora, mais de 1,1°C acima da média de 1850-1900. As medições anuais da OMM mostram que, no ritmo atual, esse número só tende a crescer. O dióxido de carbono atmosférico atingiu 149% do nível pré-industrial em 2021, principalmente devido às emissões da combustão de combustíveis fósseis e da produção de cimento. As emissões globais se recuperaram desde os lockdowns relacionados à covid, em 2020. Do total de emissões de atividades humanas durante o período de 2011-2020, cerca de 48% se acumularam na atmosfera, 26%, no oceano e 29%, em terra. O metano atmosférico é o segundo maior contribuinte para as mudanças climáticas e consiste em uma mistura diversificada de fontes e sumidouros sobrepostos. Por isso, é difícil quantificar as emissões por tipo de fonte. Desde 2007, a concentração média global de metano na atmosfera vem aumentando em ritmo acelerado. Os aumentos anuais em 2020 e 2021 (15 e 18 ppb, respectivamente) são os maiores desde o início do registro sistemático, em 1983. As causas ainda estão sendo investigadas pela comunidade científica global. O óxido nitroso é o terceiro gás de efeito estufa mais importante. É emitido para a atmosfera tanto de fontes naturais (aproximadamente 57%) quanto de antropogênicas (aproximadamente 43%), incluindo oceanos, solos, queima de biomassa, uso de fertilizantes e vários processos industriais. O aumento de 2020 para 2021 foi ligeiramente superior ao observado de 2019 a 2020 e superior à taxa média de crescimento anual dos últimos 10 anos.'\n",
        "   }\n",
        "\n",
        "\n",
        "documents = [DOCUMENT_1, DOCUMENT_2]\n"
      ],
      "metadata": {
        "id": "Q2g2RNPRfv5g"
      },
      "execution_count": 33,
      "outputs": []
    },
    {
      "cell_type": "code",
      "source": [
        "df = pd.DataFrame(documents)\n",
        "df.columns = ['Titulo', 'Conteudo']\n",
        "\n",
        "model = \"models/embedding-001\"\n",
        "\n",
        "def embed_fn(title, text):\n",
        "  return genai.embed_content(model=model,\n",
        "                                 content=text,\n",
        "                                 title=title,\n",
        "                                 task_type=\"RETRIEVAL_DOCUMENT\")[\"embedding\"]\n",
        "\n",
        "df[\"Embeddings\"] = df.apply(lambda row: embed_fn(row[\"Titulo\"], row[\"Conteudo\"]), axis=1)\n",
        "\n",
        "def gerar_e_buscar_consulta(consulta,base, model):\n",
        "  embedding_da_consulta = genai.embed_content(model=model,\n",
        "                                 content=consulta,\n",
        "                                 task_type='RETRIEVAL_QUERY')['embedding']\n",
        "\n",
        "  produtos_escalares = np.dot(np.stack(df['Embeddings']), embedding_da_consulta)\n",
        "\n",
        "  indice = np.argmax(produtos_escalares)\n",
        "  return df.iloc[indice]['Conteudo']\n",
        "\n",
        "consulta = \"o quão poluída a atmosfera está?\"\n",
        "\n",
        "trecho = gerar_e_buscar_consulta(consulta,df, model)"
      ],
      "metadata": {
        "id": "B-MSiS8sfvxq"
      },
      "execution_count": 34,
      "outputs": []
    },
    {
      "cell_type": "code",
      "source": [
        "generation_config = {\n",
        "  \"temperature\": 0.3,\n",
        "  \"candidate_count\": 1\n",
        "}"
      ],
      "metadata": {
        "id": "zcf8zNqofvqh"
      },
      "execution_count": 35,
      "outputs": []
    },
    {
      "cell_type": "code",
      "source": [
        "prompt = f\"Retire partes importantes do texto para responder de forma amigável, sem adicionar informações que não façam parte do texto: {trecho}\"\n",
        "\n",
        "model_2 = genai.GenerativeModel(\"gemini-1.0-pro\",\n",
        "                                generation_config=generation_config)\n",
        "\n",
        "print(\"Olá, sou Ian, seu consultor sobre dados da atmosfera e do efeito estufa!\" \"\\n\\n\" )\n",
        "response = model_2.generate_content(prompt)\n",
        "print(response.text)"
      ],
      "metadata": {
        "colab": {
          "base_uri": "https://localhost:8080/",
          "height": 382
        },
        "id": "OM0LpyjBfyDw",
        "outputId": "0488f5d0-726e-42c3-e256-cedf0052ea50"
      },
      "execution_count": 36,
      "outputs": [
        {
          "output_type": "stream",
          "name": "stdout",
          "text": [
            "Olá, sou Ian, seu consultor sobre dados da atmosfera e do efeito estufa!\n",
            "\n",
            "\n",
            "**Concentrações de Gases de Efeito Estufa**\n",
            "\n",
            "* Em 2021, as concentrações atmosféricas de dióxido de carbono, metano e óxido nitroso atingiram níveis recordes.\n",
            "* Os níveis de dióxido de carbono são 149% maiores que os pré-industriais, metano 262% e óxido nitroso 124%.\n",
            "* O metano teve o maior aumento anual em 2021 desde o início dos registros em 1983.\n",
            "\n",
            "**Implicações**\n",
            "\n",
            "* O aumento contínuo dos gases de efeito estufa está levando a extremos climáticos.\n",
            "* Os sete anos mais quentes já registrados foram entre 2015 e 2021.\n",
            "* O aquecimento global está causando perda de gelo polar, aquecimento dos oceanos e aumento do nível do mar.\n",
            "\n",
            "**Ações Necessárias**\n",
            "\n",
            "* Reduzir as emissões de dióxido de carbono, o principal motor das mudanças climáticas.\n",
            "* Controlar as emissões de metano, que têm um impacto reversível no clima.\n",
            "* Transformar os sistemas industriais, energéticos e de transporte.\n",
            "* Adotar estratégias econômicas para combater as emissões de metano, especialmente do setor de combustíveis fósseis.\n"
          ]
        }
      ]
    }
  ]
}